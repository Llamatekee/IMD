{
  "cells": [
    {
      "cell_type": "markdown",
      "source": [
        "Práctica 2: Clasificación y evaluación de modelos\n",
        "\n",
        "Duración: 1 sesión\n",
        "\n",
        "Apartado 2.4: Clasificación usando método multiclase\n",
        "Objetivo: El objetivo de esta práctica es introducir los conceptos de clasificación usando métodos multiclase y compararlos con los clasificadores usando más de dos clases de forma directa\n",
        "\n",
        "Implemente los siguientes ejercicios:\n",
        "\n",
        "1. Seleccione un algoritmo clasificación de los disponibles en scikit que sea capaz de resolver problemas de más de dos clases y al menos 10 conjuntos de datos de más de 2 clases (puede reusar los de prácticas anteriores).\n",
        "2. Aplique el clasificador base a cada uno de los conjuntos y anote los resultados obtenidos.\n",
        "3. Aplique los métodos multiclase one-vs.-one (OVO), one-vs.all (OVA) y error correcting output codes (ECOC) a\n",
        "cada uno de los conjuntos de datos y anote los resultados obtenidos.\n",
        "4. Considere los métodos ECOC usando la matriz de codificación exhaustiva para aquellos problemas con un\n",
        "número de clases pequeño.\n",
        "5. Compare si hay diferencias significativas entre ellos usando el test de Iman-Davenport. Si es así, aplique el\n",
        "procedimiento de Wilcoxon para comparar cada método multiclase con el clasificador base y los diferentes\n",
        "métodos entre ellos.\n",
        "6. Use el test de Nemenyi para comparar los resultados de los métodos anteriores.\n",
        "7. Enuncie las conclusiones del estudio"
      ],
      "metadata": {
        "id": "8wCasgJFQBlv"
      }
    },
    {
      "cell_type": "code",
      "execution_count": 1,
      "metadata": {
        "collapsed": true,
        "id": "zkASDLmSP2pW"
      },
      "outputs": [],
      "source": [
        "from sklearn import preprocessing\n",
        "import pandas as pd\n",
        "import numpy as np\n",
        "from scipy.io import arff"
      ]
    },
    {
      "cell_type": "code",
      "execution_count": 2,
      "outputs": [],
      "source": [
        "def standardize(df: pd.DataFrame):\n",
        "    res = df.copy()\n",
        "    res.drop(res.columns[-1], axis=1, inplace=True)\n",
        "    scaler = preprocessing.StandardScaler()\n",
        "\n",
        "    num_df = res.select_dtypes(exclude=['object', 'category'])\n",
        "    res[num_df.columns] = scaler.fit_transform(num_df)\n",
        "    res['class'] = df.iloc[:,-1]\n",
        "    return res\n",
        "\n",
        "def normalize(df: pd.DataFrame):\n",
        "    res = df.copy()\n",
        "    res.drop(res.columns[-1], axis=1, inplace=True)\n",
        "    scaler = preprocessing.MinMaxScaler()\n",
        "\n",
        "    num_df = df.select_dtypes(exclude=['object', 'category'])\n",
        "    res[num_df.columns] = scaler.fit_transform(num_df)\n",
        "    res['class'] = df.iloc[:,-1]\n",
        "    return res"
      ],
      "metadata": {
        "id": "vpuaMrGaP2pX"
      }
    },
    {
      "cell_type": "code",
      "execution_count": 3,
      "outputs": [],
      "source": [
        "data = pd.read_csv(\"breast-cancer-wisconsin.data\", header=None)\n",
        "df_breast = pd.DataFrame(data)\n",
        "df_breast = standardize(df_breast)\n",
        "df_breast = df_breast.dropna(axis=0)\n",
        "\n",
        "data = pd.read_csv(\"ecoli.csv\", header=None)\n",
        "df_ecoli = pd.DataFrame(data)\n",
        "df_ecoli = standardize(df_ecoli)\n",
        "df_ecoli.drop(df_ecoli.columns[0], axis=1, inplace=True)\n",
        "\n",
        "data = pd.read_csv(\"glass.data\", header=None)\n",
        "df_glass = pd.DataFrame(data)\n",
        "df_glass = standardize(df_glass)\n",
        "\n",
        "data = pd.read_csv(\"seeds.csv\", header=None)\n",
        "df_seeds = pd.DataFrame(data)\n",
        "df_seeds = standardize(df_seeds)\n",
        "\n",
        "data = pd.read_csv(\"segmentation.data\", header=None)\n",
        "df_segmentation = pd.DataFrame(data)\n",
        "df_segmentation = standardize(df_segmentation)\n",
        "# shift column 'Name' to first position\n",
        "first_column = df_segmentation.pop(0)\n",
        "\n",
        "# insert column using insert(position,column_name,\n",
        "# first_column) function\n",
        "df_segmentation.insert(len(df_segmentation.columns), 0, first_column)\n",
        "df_segmentation = df_segmentation.rename(columns={'class': 19})\n",
        "\n",
        "data = arff.loadarff('iris.arff')\n",
        "df_iris = pd.DataFrame(data[0])\n",
        "df_iris = standardize(df_iris)\n",
        "df_iris['class'] = pd.factorize(df_iris['class'])[0]\n",
        "\n",
        "data = arff.loadarff('car.arff')\n",
        "df_car = pd.DataFrame(data[0])\n",
        "df_car['class'] = pd.factorize(df_car['class'])[0]\n",
        "df_car['buying'] = pd.factorize(df_car['buying'])[0]\n",
        "df_car['maint'] = pd.factorize(df_car['maint'])[0]\n",
        "df_car['doors'] = pd.factorize(df_car['doors'])[0]\n",
        "df_car['persons'] = pd.factorize(df_car['persons'])[0]\n",
        "df_car['lug_boot'] = pd.factorize(df_car['lug_boot'])[0]\n",
        "df_car['safety'] = pd.factorize(df_car['safety'])[0]\n",
        "\n",
        "\n",
        "data = arff.loadarff('penguins.arff')\n",
        "df_penguins = pd.DataFrame(data[0])\n",
        "df_penguins = standardize(df_penguins)\n",
        "# shift column 'Name' to first position\n",
        "first_column = df_penguins.pop('species')\n",
        "\n",
        "# insert column using insert(position,column_name,\n",
        "# first_column) function\n",
        "df_penguins.insert(len(df_penguins.columns), 'species', first_column)\n",
        "df_penguins['island'] = pd.factorize(df_penguins['island'])[0]\n",
        "df_penguins = df_penguins.rename(columns={'class': 'sex'})\n",
        "df_penguins['sex'] = pd.factorize(df_penguins['sex'])[0]\n",
        "df_penguins['species'] = pd.factorize(df_penguins['species'])[0]\n",
        "df_penguins = df_penguins.dropna(axis=0)\n",
        "\n",
        "\n",
        "data = arff.loadarff('tae.arff')\n",
        "df_tae = pd.DataFrame(data[0])\n",
        "df_tae = standardize(df_tae)\n",
        "df_tae['Whether_of_not_the_TA_is_a_native_English_speaker'] = pd.factorize(df_tae['Whether_of_not_the_TA_is_a_native_English_speaker'])[0]\n",
        "df_tae['class'] = pd.factorize(df_tae['class'])[0]\n",
        "\n",
        "data = arff.loadarff('zoo.arff')\n",
        "df_zoo = pd.DataFrame(data[0])\n",
        "\n",
        "for column in df_zoo.columns:\n",
        "    if column != 'legs':\n",
        "        df_zoo[column] = pd.factorize(df_zoo[column])[0]\n",
        "\n",
        "dataframes_list = [df_seeds, df_breast, df_ecoli, df_glass, df_segmentation, df_iris, df_car, df_penguins, df_tae, df_zoo]"
      ],
      "metadata": {
        "id": "8w9rNkQ6P2pX"
      }
    },
    {
      "cell_type": "code",
      "execution_count": 4,
      "outputs": [
        {
          "output_type": "stream",
          "name": "stdout",
          "text": [
            "<class 'pandas.core.frame.DataFrame'>\n",
            "RangeIndex: 101 entries, 0 to 100\n",
            "Data columns (total 18 columns):\n",
            " #   Column    Non-Null Count  Dtype  \n",
            "---  ------    --------------  -----  \n",
            " 0   animal    101 non-null    int64  \n",
            " 1   hair      101 non-null    int64  \n",
            " 2   feathers  101 non-null    int64  \n",
            " 3   eggs      101 non-null    int64  \n",
            " 4   milk      101 non-null    int64  \n",
            " 5   airborne  101 non-null    int64  \n",
            " 6   aquatic   101 non-null    int64  \n",
            " 7   predator  101 non-null    int64  \n",
            " 8   toothed   101 non-null    int64  \n",
            " 9   backbone  101 non-null    int64  \n",
            " 10  breathes  101 non-null    int64  \n",
            " 11  venomous  101 non-null    int64  \n",
            " 12  fins      101 non-null    int64  \n",
            " 13  legs      101 non-null    float64\n",
            " 14  tail      101 non-null    int64  \n",
            " 15  domestic  101 non-null    int64  \n",
            " 16  catsize   101 non-null    int64  \n",
            " 17  type      101 non-null    int64  \n",
            "dtypes: float64(1), int64(17)\n",
            "memory usage: 14.3 KB\n"
          ]
        }
      ],
      "source": [
        "df_zoo.info()"
      ],
      "metadata": {
        "colab": {
          "base_uri": "https://localhost:8080/"
        },
        "id": "wVF0oSQqP2pY",
        "outputId": "85644e2e-3a73-4fb7-cbb1-1b3387cc44a0"
      }
    },
    {
      "cell_type": "code",
      "execution_count": 5,
      "outputs": [],
      "source": [
        "datasets_str = [\"Breast Cancer wisconsin\", \"Ecoli\", \"Glass\", \"Seeds\", \"Segmentation\", \"Iris\", \"Car\", \"Penguins\", \"Tae\", \"Zoo\"]"
      ],
      "metadata": {
        "id": "gCJRE-UiP2pZ"
      }
    },
    {
      "cell_type": "code",
      "execution_count": 6,
      "outputs": [],
      "source": [
        "from sklearn.model_selection import train_test_split\n",
        "\n",
        "X_train_seeds, X_test_seeds, y_train_seeds, y_test_seeds = train_test_split(df_seeds.iloc[:, 0:len(df_seeds.columns) - 1],\n",
        "                                                    df_seeds.iloc[:, len(df_seeds.columns) - 1], random_state=42, test_size=0.3)\n",
        "\n",
        "X_train_breast, X_test_breast, y_train_breast, y_test_breast = train_test_split(df_breast.iloc[:, 0:len(df_breast.columns) - 1],\n",
        "                                                    df_breast.iloc[:, len(df_breast.columns) - 1], random_state=42, test_size=0.3)\n",
        "\n",
        "X_train_ecoli, X_test_ecoli, y_train_ecoli, y_test_ecoli = train_test_split(df_ecoli.iloc[:, 0:len(df_ecoli.columns) - 1],\n",
        "                                                    df_ecoli.iloc[:, len(df_ecoli.columns) - 1], random_state=42, test_size=0.3)\n",
        "\n",
        "X_train_glass, X_test_glass, y_train_glass, y_test_glass = train_test_split(df_glass.iloc[:, 0:len(df_glass.columns) - 1],\n",
        "                                                    df_glass.iloc[:, len(df_glass.columns) - 1], random_state=42, test_size=0.3)\n",
        "\n",
        "X_train_segmentation, X_test_segmentation, y_train_segmentation, y_test_segmentation = train_test_split(df_segmentation.iloc[:, 0:len(df_segmentation.columns) - 1],\n",
        "                                                    df_segmentation.iloc[:, len(df_segmentation.columns) - 1], random_state=42, test_size=0.3)\n",
        "\n",
        "X_train_iris, X_test_iris, y_train_iris, y_test_iris = train_test_split(df_iris.iloc[:, 0:len(df_iris.columns) - 1],\n",
        "                                                    df_iris.iloc[:, len(df_iris.columns) - 1], random_state=42, test_size=0.3)\n",
        "\n",
        "X_train_car, X_test_car, y_train_car, y_test_car = train_test_split(df_car.iloc[:, 1:len(df_car.columns) - 1],\n",
        "                                                    df_car.iloc[:, len(df_car.columns) - 1], random_state=42, test_size=0.3)\n",
        "\n",
        "X_train_penguins, X_test_penguins, y_train_penguins, y_test_penguins = train_test_split(df_penguins.iloc[:, 0:len(df_penguins.columns) - 1],\n",
        "                                                    df_penguins.iloc[:, len(df_penguins.columns) - 1], random_state=42, test_size=0.3)\n",
        "\n",
        "X_train_tae, X_test_tae, y_train_tae, y_test_tae = train_test_split(df_tae.iloc[:, 0:len(df_tae.columns) - 1],\n",
        "                                                    df_tae.iloc[:, len(df_tae.columns) - 1], random_state=42, test_size=0.3)\n",
        "\n",
        "X_train_zoo, X_test_zoo, y_train_zoo, y_test_zoo = train_test_split(df_zoo.iloc[:, 0:len(df_zoo.columns) - 1],\n",
        "                                                    df_zoo.iloc[:, len(df_zoo.columns) - 1], random_state=42, test_size=0.3)\n",
        "\n",
        "datasets = [(X_train_seeds, X_test_seeds, y_train_seeds, y_test_seeds), (X_train_breast, X_test_breast, y_train_breast, y_test_breast), (X_train_ecoli, X_test_ecoli, y_train_ecoli, y_test_ecoli), (X_train_glass, X_test_glass, y_train_glass, y_test_glass), (X_train_segmentation, X_test_segmentation, y_train_segmentation, y_test_segmentation), (X_train_iris, X_test_iris, y_train_iris, y_test_iris), (X_train_car, X_test_car, y_train_car, y_test_car), (X_train_penguins, X_test_penguins, y_train_penguins, y_test_penguins), (X_train_tae, X_test_tae, y_train_tae, y_test_tae), (X_train_zoo, X_test_zoo, y_train_zoo, y_test_zoo)]\n",
        "\n",
        "datasets_str = ['seeds', 'breast', 'ecoli', 'glass', 'segmentation', 'iris', 'car', 'penguins', 'tae', 'zoo']"
      ],
      "metadata": {
        "id": "7I_FFd0FP2pZ"
      }
    },
    {
      "cell_type": "code",
      "execution_count": 7,
      "outputs": [
        {
          "output_type": "stream",
          "name": "stdout",
          "text": [
            "<class 'pandas.core.frame.DataFrame'>\n",
            "Int64Index: 342 entries, 0 to 343\n",
            "Data columns (total 7 columns):\n",
            " #   Column             Non-Null Count  Dtype  \n",
            "---  ------             --------------  -----  \n",
            " 0   island             342 non-null    int64  \n",
            " 1   culmen_length_mm   342 non-null    float64\n",
            " 2   culmen_depth_mm    342 non-null    float64\n",
            " 3   flipper_length_mm  342 non-null    float64\n",
            " 4   body_mass_g        342 non-null    float64\n",
            " 5   sex                342 non-null    int64  \n",
            " 6   species            342 non-null    int64  \n",
            "dtypes: float64(4), int64(3)\n",
            "memory usage: 21.4 KB\n"
          ]
        }
      ],
      "source": [
        "df_penguins.info()"
      ],
      "metadata": {
        "colab": {
          "base_uri": "https://localhost:8080/"
        },
        "id": "aJhpzhxTP2pZ",
        "outputId": "ef734222-942d-4068-de56-645af714d0db"
      }
    },
    {
      "cell_type": "code",
      "execution_count": 8,
      "outputs": [
        {
          "output_type": "stream",
          "name": "stdout",
          "text": [
            "{'Dataset': ['seeds', 'breast', 'ecoli', 'glass', 'segmentation', 'iris', 'car', 'penguins', 'tae', 'zoo'], 'Modelo base': [0.873015873015873, 0.9414634146341463, 0.8316831683168316, 0.9692307692307692, 0.8253968253968254, 0.9555555555555556, 0.7341040462427746, 0.9514563106796117, 0.6739130434782609, 0.9354838709677419]}\n"
          ]
        }
      ],
      "source": [
        "from sklearn import tree\n",
        "\n",
        "table_exercise_2 = {\n",
        "    \"Dataset\": [],\n",
        "    \"Modelo base\": []\n",
        "}\n",
        "\n",
        "\n",
        "\n",
        "def evaluate_score():\n",
        "    for dataset, current_str in zip(datasets, datasets_str):\n",
        "\n",
        "        X_train = dataset[0]\n",
        "        y_train = dataset[2]\n",
        "        X_test = dataset[1]\n",
        "        y_test = dataset[3]\n",
        "\n",
        "        clf = tree.DecisionTreeClassifier()\n",
        "        clf = clf.fit(X_train, y_train)\n",
        "        table_exercise_2[\"Dataset\"].append(current_str)\n",
        "        table_exercise_2[\"Modelo base\"].append(clf.score(X_test, y_test))\n",
        "\n",
        "evaluate_score()\n",
        "print(table_exercise_2)\n",
        "df_table_exercise_2 = pd.DataFrame(table_exercise_2)"
      ],
      "metadata": {
        "colab": {
          "base_uri": "https://localhost:8080/"
        },
        "id": "w9_sI5wAP2pZ",
        "outputId": "ee053d87-e50f-412d-9867-a8ff16c62b04"
      }
    },
    {
      "cell_type": "code",
      "execution_count": 9,
      "outputs": [
        {
          "output_type": "stream",
          "name": "stdout",
          "text": [
            "\\begin{tabular}{lr}\n",
            "\\toprule\n",
            "     Dataset &  Modelo base \\\\\n",
            "\\midrule\n",
            "       seeds &     0.873016 \\\\\n",
            "      breast &     0.941463 \\\\\n",
            "       ecoli &     0.831683 \\\\\n",
            "       glass &     0.969231 \\\\\n",
            "segmentation &     0.825397 \\\\\n",
            "        iris &     0.955556 \\\\\n",
            "         car &     0.734104 \\\\\n",
            "    penguins &     0.951456 \\\\\n",
            "         tae &     0.673913 \\\\\n",
            "         zoo &     0.935484 \\\\\n",
            "\\bottomrule\n",
            "\\end{tabular}\n",
            "\n"
          ]
        },
        {
          "output_type": "stream",
          "name": "stderr",
          "text": [
            "<ipython-input-9-71f6afbf0120>:1: FutureWarning: In future versions `DataFrame.to_latex` is expected to utilise the base implementation of `Styler.to_latex` for formatting and rendering. The arguments signature may therefore change. It is recommended instead to use `DataFrame.style.to_latex` which also contains additional functionality.\n",
            "  print(df_table_exercise_2.to_latex(index=False))\n"
          ]
        }
      ],
      "source": [
        "print(df_table_exercise_2.to_latex(index=False))"
      ],
      "metadata": {
        "colab": {
          "base_uri": "https://localhost:8080/"
        },
        "id": "1WLFjFxhP2pZ",
        "outputId": "08a47c47-543a-4822-f593-92a0451f2edc"
      }
    },
    {
      "cell_type": "code",
      "execution_count": 10,
      "outputs": [
        {
          "output_type": "stream",
          "name": "stdout",
          "text": [
            "{'Dataset': ['seeds', 'breast', 'ecoli', 'glass', 'segmentation', 'iris', 'car', 'penguins', 'tae', 'zoo'], 'OVO': [0.8412698412698413, 0.9414634146341463, 0.8118811881188119, 0.9538461538461539, 0.8571428571428571, 0.9555555555555556, 0.7341040462427746, 0.970873786407767, 0.6739130434782609, 0.9032258064516129], 'OVA': [0.9047619047619048, 0.9365853658536586, 0.7920792079207921, 0.9538461538461539, 0.8253968253968254, 0.9555555555555556, 0.74373795761079, 0.970873786407767, 0.5869565217391305, 0.9032258064516129], 'ECOC': [0.8412698412698413, 0.6195121951219512, 0.7722772277227723, 0.9538461538461539, 0.7936507936507936, 0.9555555555555556, 0.7341040462427746, 0.9805825242718447, 0.6086956521739131, 0.967741935483871]}\n"
          ]
        }
      ],
      "source": [
        "from sklearn import tree\n",
        "from sklearn.multiclass import OneVsOneClassifier\n",
        "from sklearn.multiclass import OneVsRestClassifier\n",
        "from sklearn.multiclass import OutputCodeClassifier\n",
        "\n",
        "table_exercise_3 = {\n",
        "    \"Dataset\": [],\n",
        "    \"OVO\": [],\n",
        "    \"OVA\": [],\n",
        "    \"ECOC\": []\n",
        "}\n",
        "\n",
        "\n",
        "\n",
        "def evaluate_score_3():\n",
        "    for dataset, current_str in zip(datasets, datasets_str):\n",
        "\n",
        "        X_train = dataset[0]\n",
        "        y_train = dataset[2]\n",
        "        X_test = dataset[1]\n",
        "        y_test = dataset[3]\n",
        "\n",
        "        table_exercise_3[\"Dataset\"].append(current_str)\n",
        "\n",
        "        clf_ovo = OneVsOneClassifier(tree.DecisionTreeClassifier())\n",
        "        clf_ovo = clf_ovo.fit(X_train, y_train)\n",
        "        table_exercise_3[\"OVO\"].append(clf_ovo.score(X_test, y_test))\n",
        "\n",
        "        clf_ova = OneVsRestClassifier(tree.DecisionTreeClassifier())\n",
        "        clf_ova = clf_ova.fit(X_train, y_train)\n",
        "        table_exercise_3[\"OVA\"].append(clf_ova.score(X_test, y_test))\n",
        "\n",
        "        clf_ecoc = OutputCodeClassifier(tree.DecisionTreeClassifier())\n",
        "        clf_ecoc = clf_ecoc.fit(X_train, y_train)\n",
        "        table_exercise_3[\"ECOC\"].append(clf_ecoc.score(X_test, y_test))\n",
        "\n",
        "evaluate_score_3()\n",
        "print(table_exercise_3)\n",
        "df_table_exercise_3 = pd.DataFrame(table_exercise_3)"
      ],
      "metadata": {
        "colab": {
          "base_uri": "https://localhost:8080/"
        },
        "id": "KrGNKWj1P2pa",
        "outputId": "da4594f1-d628-4801-92ca-e1fedaadc35e"
      }
    },
    {
      "cell_type": "code",
      "execution_count": 11,
      "outputs": [
        {
          "output_type": "stream",
          "name": "stdout",
          "text": [
            "\\begin{tabular}{lrrr}\n",
            "\\toprule\n",
            "     Dataset &      OVO &      OVA &     ECOC \\\\\n",
            "\\midrule\n",
            "       seeds & 0.841270 & 0.904762 & 0.841270 \\\\\n",
            "      breast & 0.941463 & 0.936585 & 0.619512 \\\\\n",
            "       ecoli & 0.811881 & 0.792079 & 0.772277 \\\\\n",
            "       glass & 0.953846 & 0.953846 & 0.953846 \\\\\n",
            "segmentation & 0.857143 & 0.825397 & 0.793651 \\\\\n",
            "        iris & 0.955556 & 0.955556 & 0.955556 \\\\\n",
            "         car & 0.734104 & 0.743738 & 0.734104 \\\\\n",
            "    penguins & 0.970874 & 0.970874 & 0.980583 \\\\\n",
            "         tae & 0.673913 & 0.586957 & 0.608696 \\\\\n",
            "         zoo & 0.903226 & 0.903226 & 0.967742 \\\\\n",
            "\\bottomrule\n",
            "\\end{tabular}\n",
            "\n"
          ]
        },
        {
          "output_type": "stream",
          "name": "stderr",
          "text": [
            "<ipython-input-11-06326dc2e141>:1: FutureWarning: In future versions `DataFrame.to_latex` is expected to utilise the base implementation of `Styler.to_latex` for formatting and rendering. The arguments signature may therefore change. It is recommended instead to use `DataFrame.style.to_latex` which also contains additional functionality.\n",
            "  print(df_table_exercise_3.to_latex(index=False))\n"
          ]
        }
      ],
      "source": [
        "print(df_table_exercise_3.to_latex(index=False))"
      ],
      "metadata": {
        "colab": {
          "base_uri": "https://localhost:8080/"
        },
        "id": "W3V4ZqTAP2pa",
        "outputId": "72a68609-31ee-4ecc-e7a7-8b846342e05f"
      }
    },
    {
      "cell_type": "code",
      "execution_count": 12,
      "outputs": [
        {
          "output_type": "stream",
          "name": "stdout",
          "text": [
            "        OVO       OVA      ECOC  Modelo base\n",
            "0  0.841270  0.904762  0.841270     0.873016\n",
            "1  0.941463  0.936585  0.619512     0.941463\n",
            "2  0.811881  0.792079  0.772277     0.831683\n",
            "3  0.953846  0.953846  0.953846     0.969231\n",
            "4  0.857143  0.825397  0.793651     0.825397\n",
            "5  0.955556  0.955556  0.955556     0.955556\n",
            "6  0.734104  0.743738  0.734104     0.734104\n",
            "7  0.970874  0.970874  0.980583     0.951456\n",
            "8  0.673913  0.586957  0.608696     0.673913\n",
            "9  0.903226  0.903226  0.967742     0.935484\n",
            "The difference in performance between the models is not statistically significant (p = 0.355)\n"
          ]
        }
      ],
      "source": [
        "from scipy.stats import chi2\n",
        "\n",
        "def compute_iman_davenport_statistic(performance_matrix):\n",
        "    # Compute the ranks of the model performance on each dataset\n",
        "    ranks = np.apply_along_axis(lambda x: len(x) - np.argsort(np.argsort(x)), 1, performance_matrix)\n",
        "\n",
        "    # Sum the ranks for each model across all datasets\n",
        "    rank_sums = np.sum(ranks, axis=0)\n",
        "\n",
        "    # Compute the iman Davenport statistic\n",
        "    iman_davenport_statistic = (np.max(rank_sums) - np.min(rank_sums)) / performance_matrix.shape[1]\n",
        "\n",
        "    return iman_davenport_statistic\n",
        "\n",
        "\n",
        "def compute_p_value(iman_davenport_statistic, num_models, num_datasets):\n",
        "    # Compute the degrees of freedom for the iman Davenport test\n",
        "    df = num_models - 1\n",
        "\n",
        "    # Compute the p-value using the chi-squared distribution\n",
        "    p_value = 1 - chi2.cdf(iman_davenport_statistic, df)\n",
        "\n",
        "    return p_value\n",
        "\n",
        "\n",
        "def iman_davenport_test(performance_matrix, significance_level):\n",
        "    # Compute the iman Davenport statistic and p-value\n",
        "    iman_davenport_statistic = compute_iman_davenport_statistic(performance_matrix)\n",
        "    p_value = compute_p_value(iman_davenport_statistic, performance_matrix.shape[1], performance_matrix.shape[0])\n",
        "\n",
        "    # Determine whether the difference in performance between the models is statistically significant\n",
        "    if p_value < significance_level:\n",
        "        print(f\"The difference in performance between the models is statistically significant (p = {p_value:.3f})\")\n",
        "    else:\n",
        "        print(f\"The difference in performance between the models is not statistically significant (p = {p_value:.3f})\")\n",
        "    return p_value\n",
        "\n",
        "df_performance = pd.DataFrame()\n",
        "df_performance['OVO'] = df_table_exercise_3['OVO']\n",
        "df_performance['OVA'] = df_table_exercise_3['OVA']\n",
        "df_performance['ECOC'] = df_table_exercise_3['ECOC']\n",
        "df_performance['Modelo base'] = df_table_exercise_2['Modelo base']\n",
        "print(df_performance)\n",
        "\n",
        "performance_matrix = df_performance.values\n",
        "\n",
        "# Run the iman Davenport test\n",
        "p_value = iman_davenport_test(performance_matrix, 0.05)"
      ],
      "metadata": {
        "colab": {
          "base_uri": "https://localhost:8080/"
        },
        "id": "JXlVGMqPP2pa",
        "outputId": "361f1d63-553b-49db-e0b7-590e770b0319"
      }
    },
    {
      "cell_type": "code",
      "execution_count": 13,
      "outputs": [
        {
          "output_type": "stream",
          "name": "stdout",
          "text": [
            "              OVO  OVA  ECOC  Modelo base\n",
            "seeds         1.5  4.0   1.5          3.0\n",
            "breast        3.5  2.0   1.0          3.5\n",
            "ecoli         3.0  2.0   1.0          4.0\n",
            "glass         2.0  2.0   2.0          4.0\n",
            "segmentation  4.0  2.5   1.0          2.5\n",
            "iris          2.5  2.5   2.5          2.5\n",
            "car           2.0  4.0   2.0          2.0\n",
            "penguins      2.5  2.5   4.0          1.0\n",
            "tae           3.5  1.0   2.0          3.5\n",
            "zoo           1.5  1.5   4.0          3.0\n",
            "\\begin{tabular}{lrrrr}\n",
            "\\toprule\n",
            "{} &  OVO &  OVA &  ECOC &  Modelo base \\\\\n",
            "\\midrule\n",
            "seeds        &  1.5 &  4.0 &   1.5 &          3.0 \\\\\n",
            "breast       &  3.5 &  2.0 &   1.0 &          3.5 \\\\\n",
            "ecoli        &  3.0 &  2.0 &   1.0 &          4.0 \\\\\n",
            "glass        &  2.0 &  2.0 &   2.0 &          4.0 \\\\\n",
            "segmentation &  4.0 &  2.5 &   1.0 &          2.5 \\\\\n",
            "iris         &  2.5 &  2.5 &   2.5 &          2.5 \\\\\n",
            "car          &  2.0 &  4.0 &   2.0 &          2.0 \\\\\n",
            "penguins     &  2.5 &  2.5 &   4.0 &          1.0 \\\\\n",
            "tae          &  3.5 &  1.0 &   2.0 &          3.5 \\\\\n",
            "zoo          &  1.5 &  1.5 &   4.0 &          3.0 \\\\\n",
            "\\bottomrule\n",
            "\\end{tabular}\n",
            "\n"
          ]
        },
        {
          "output_type": "stream",
          "name": "stderr",
          "text": [
            "<ipython-input-13-571ed3ae7f37>:27: FutureWarning: In future versions `DataFrame.to_latex` is expected to utilise the base implementation of `Styler.to_latex` for formatting and rendering. The arguments signature may therefore change. It is recommended instead to use `DataFrame.style.to_latex` which also contains additional functionality.\n",
            "  print(pd.DataFrame(ranks).transpose().rename(columns={0: \"OVO\", 1: \"OVA\", 2: \"ECOC\", 3: \"Modelo base\"}).to_latex())\n"
          ]
        }
      ],
      "source": [
        "#print(f\"SVM ------> \\n{df_svm['F1-score'].head(n=10)}\")\n",
        "#print(f\"KNN ------> \\n{df_knn['F1-score'].head(n=10)}\")\n",
        "#print(f\"TREE ------> \\n{df_tree['F1-score'].head(n=10)}\")\n",
        "from scipy.stats import rankdata\n",
        "\n",
        "ranks = {\n",
        "    'seeds': [0, 0, 0, 0],\n",
        "    'breast': [0, 0, 0, 0],\n",
        "    'ecoli': [0, 0, 0, 0],\n",
        "    'glass': [0, 0, 0, 0],\n",
        "    'segmentation': [0, 0, 0, 0],\n",
        "    'iris': [0, 0, 0, 0],\n",
        "    'car': [0, 0, 0, 0],\n",
        "    'penguins': [0, 0, 0, 0],\n",
        "    'tae': [0, 0, 0, 0],\n",
        "    'zoo': [0, 0, 0, 0]\n",
        "}\n",
        "\n",
        "for index, (current_svm_value, current_knn_value, current_tree_value, current_shit_value) in enumerate(zip(df_performance[\"OVO\"].values, df_performance[\"OVA\"].values, df_performance[\"ECOC\"].values, df_performance[\"Modelo base\"].values)):\n",
        "\n",
        "    current_values = [current_svm_value, current_knn_value, current_tree_value, current_shit_value]\n",
        "    current_ranking = rankdata(current_values)\n",
        "\n",
        "    ranks[list(ranks.keys())[index]] = current_ranking\n",
        "\n",
        "print(pd.DataFrame(ranks).transpose().rename(columns={0: \"OVO\", 1: \"OVA\", 2: \"ECOC\", 3: \"Modelo base\"}).head(n=10))\n",
        "print(pd.DataFrame(ranks).transpose().rename(columns={0: \"OVO\", 1: \"OVA\", 2: \"ECOC\", 3: \"Modelo base\"}).to_latex())\n",
        "\n",
        "df_ranks = pd.DataFrame(ranks).transpose().rename(columns={0: \"OVO\", 1: \"OVA\", 2: \"ECOC\", 3: \"Modelo base\"})"
      ],
      "metadata": {
        "colab": {
          "base_uri": "https://localhost:8080/"
        },
        "id": "Ft97_9_9P2pb",
        "outputId": "e7c73a2e-2607-4005-e610-c87d84d8a3ac"
      }
    },
    {
      "cell_type": "code",
      "execution_count": 14,
      "outputs": [
        {
          "output_type": "display_data",
          "data": {
            "text/plain": [
              "<Figure size 1200x800 with 1 Axes>"
            ],
            "image/png": "[encoded data removed]"
          },
          "metadata": {}
        }
      ],
      "source": [
        "import numpy as np\n",
        "import matplotlib.pyplot as plt\n",
        "\n",
        "# set width of bar\n",
        "barWidth = 0.25\n",
        "fig = plt.subplots(figsize =(12, 8))\n",
        "\n",
        "# set height of bar\n",
        "IT = df_ranks['OVO'].values\n",
        "ECE = df_ranks['OVA'].values\n",
        "CSE = df_ranks['ECOC'].values\n",
        "CSA = df_ranks['Modelo base'].values\n",
        "\n",
        "# Set position of bar on X axis\n",
        "br1 = np.arange(len(IT))\n",
        "br2 = [x + barWidth for x in br1]\n",
        "br3 = [x + barWidth for x in br2]\n",
        "br4 = [x + barWidth for x in br3]\n",
        "\n",
        "# Make the plot\n",
        "plt.bar(br1, IT, color ='r', width = barWidth,\n",
        "\t\tedgecolor ='grey', label ='OVO')\n",
        "plt.bar(br2, ECE, color ='g', width = barWidth,\n",
        "\t\tedgecolor ='grey', label ='OVA')\n",
        "plt.bar(br3, CSE, color ='b', width = barWidth,\n",
        "\t\tedgecolor ='grey', label ='ECOC')\n",
        "plt.bar(br4, CSA, color ='y', width = barWidth,\n",
        "\t\tedgecolor ='grey', label ='Base tree')\n",
        "\n",
        "# Adding Xticks\n",
        "plt.xlabel('Datasets', fontweight ='bold', fontsize = 15)\n",
        "plt.ylabel('Ranking', fontweight ='bold', fontsize = 15)\n",
        "plt.xticks([r + barWidth for r in range(len(IT))],\n",
        "\t\tdf_ranks.index.values)\n",
        "\n",
        "plt.legend()\n",
        "plt.show()"
      ],
      "metadata": {
        "colab": {
          "base_uri": "https://localhost:8080/",
          "height": 702
        },
        "id": "fGwKyAH1P2pb",
        "outputId": "4fb03f51-7c3e-4a42-c1a2-715f1661aa83"
      }
    },
    {
      "cell_type": "code",
      "execution_count": 15,
      "outputs": [
        {
          "output_type": "stream",
          "name": "stdout",
          "text": [
            "[[1.5 4.  1.5 3. ]\n",
            " [3.5 2.  1.  3.5]\n",
            " [3.  2.  1.  4. ]\n",
            " [2.  2.  2.  4. ]\n",
            " [4.  2.5 1.  2.5]\n",
            " [2.5 2.5 2.5 2.5]\n",
            " [2.  4.  2.  2. ]\n",
            " [2.5 2.5 4.  1. ]\n",
            " [3.5 1.  2.  3.5]\n",
            " [1.5 1.5 4.  3. ]]\n",
            "[2.6, 2.4, 2.1, 2.9]\n"
          ]
        }
      ],
      "source": [
        "ranks = df_ranks.values\n",
        "\n",
        "print(ranks)\n",
        "\n",
        "avg_ranking = [np.sum(ranks[:, 0]) / ranks.shape[0], np.sum(ranks[:, 1]) / ranks.shape[0], np.sum(ranks[:, 2]) / ranks.shape[0], np.sum(ranks[:, 3]) / ranks.shape[0]]\n",
        "print(avg_ranking)"
      ],
      "metadata": {
        "colab": {
          "base_uri": "https://localhost:8080/"
        },
        "id": "JtI7AiurP2pb",
        "outputId": "a520c9e9-554d-4e8f-8212-7d94fcfaae6b"
      }
    },
    {
      "cell_type": "code",
      "execution_count": 16,
      "outputs": [],
      "source": [
        "def nemenyi_critical_distance(num_groups, alpha=0.05):\n",
        "    \"\"\"\n",
        "    Calculates the critical distance for the Nemenyi test.\n",
        "    --------------\n",
        "    num_groups : int\n",
        "        The number of groups being compared.\n",
        "    alpha : float, optional\n",
        "        The desired level of statistical significance (default is 0.05).\n",
        "    --------------\n",
        "    Returns\n",
        "    cd : float\n",
        "        The critical distance for the Nemenyi test.\n",
        "    \"\"\"\n",
        "    from scipy.stats import f\n",
        "    q = f.ppf(1 - alpha, num_groups - 1, num_groups * (num_groups - 1))\n",
        "    cd = (q * num_groups * (num_groups + 1)) / (6 * (num_groups - 1))\n",
        "    return cd\n"
      ],
      "metadata": {
        "id": "MlqmBu33P2pb"
      }
    },
    {
      "cell_type": "code",
      "execution_count": 17,
      "outputs": [
        {
          "output_type": "display_data",
          "data": {
            "text/plain": [
              "<Figure size 500x180 with 1 Axes>"
            ],
            "image/png": "[encoded data removed]"
          },
          "metadata": {}
        }
      ],
      "source": [
        "import matplotlib.pyplot as plt\n",
        "\n",
        "# input data\n",
        "cd = 1.2\n",
        "c = 2.95\n",
        "ccf = 2.35\n",
        "cmcf = 2.25\n",
        "shit = 2.45\n",
        "\n",
        "limits=(4,1)\n",
        "\n",
        "fig, ax = plt.subplots(figsize=(5,1.8))\n",
        "plt.subplots_adjust(left=0.2, right=0.8)\n",
        "\n",
        "# set up plot\n",
        "ax.set_xlim(limits)\n",
        "ax.set_ylim(0,1)\n",
        "ax.spines['top'].set_position(('axes', 0.6))\n",
        "#ax.xaxis.tick_top()\n",
        "ax.xaxis.set_ticks_position('top')\n",
        "ax.yaxis.set_visible(False)\n",
        "for pos in [\"bottom\", \"left\", \"right\"]:\n",
        "    ax.spines[pos].set_visible(False)\n",
        "\n",
        "# CD bar\n",
        "ax.plot([limits[0],limits[0]-cd], [.9,.9], color=\"k\")\n",
        "ax.plot([limits[0],limits[0]], [.9-0.03,.9+0.03], color=\"k\")\n",
        "ax.plot([limits[0]-cd,limits[0]-cd], [.9-0.03,.9+0.03], color=\"k\")\n",
        "ax.text(limits[0]-cd/2., 0.92, \"CD\", ha=\"center\", va=\"bottom\")\n",
        "\n",
        "# annotations\n",
        "bbox_props = dict(boxstyle=\"square,pad=0.3\", fc=\"w\", ec=\"k\", lw=0.72)\n",
        "arrowprops=dict(arrowstyle=\"-\",connectionstyle=\"angle,angleA=0,angleB=90\", color='black')\n",
        "kw = dict(xycoords='data',textcoords=\"axes fraction\",\n",
        "          arrowprops=arrowprops, bbox=bbox_props, va=\"center\")\n",
        "ax.annotate(\"OVO\", xy=(c, 0.6), xytext=(0,0.25),ha=\"right\",  **kw)\n",
        "ax.annotate(\"OVA\", xy=(ccf, 0.6), xytext=(0,0),ha=\"right\",  **kw)\n",
        "ax.annotate(\"ECOC\", xy=(cmcf, 0.6), xytext=(1.,0.35),ha=\"left\",  **kw)\n",
        "ax.annotate(\"Base tree\", xy=(shit, 0.6), xytext=(1.,0.1),ha=\"left\",  **kw)\n",
        "\n",
        "#bars\n",
        "ax.plot([ccf,c],[0.55,0.55], color=\"k\", lw=3)\n",
        "ax.plot([ccf,cmcf],[0.48,0.48], color=\"k\", lw=3)\n",
        "\n",
        "plt.show()\n"
      ],
      "metadata": {
        "colab": {
          "base_uri": "https://localhost:8080/",
          "height": 185
        },
        "id": "kK1q1A3wP2pb",
        "outputId": "db04b2a5-8753-4d1d-c814-8654fc582600"
      }
    }
  ],
  "metadata": {
    "kernelspec": {
      "display_name": "Python 3",
      "language": "python",
      "name": "python3"
    },
    "language_info": {
      "codemirror_mode": {
        "name": "ipython",
        "version": 2
      },
      "file_extension": ".py",
      "mimetype": "text/x-python",
      "name": "python",
      "nbconvert_exporter": "python",
      "pygments_lexer": "ipython2",
      "version": "2.7.6"
    },
    "colab": {
      "provenance": []
    }
  },
  "nbformat": 4,
  "nbformat_minor": 0
}